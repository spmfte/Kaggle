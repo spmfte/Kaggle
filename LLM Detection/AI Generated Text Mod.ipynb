{
 "cells": [
  {
   "cell_type": "markdown",
   "id": "331d8125",
   "metadata": {
    "papermill": {
     "duration": 0.006317,
     "end_time": "2023-11-15T20:07:02.669625",
     "exception": false,
     "start_time": "2023-11-15T20:07:02.663308",
     "status": "completed"
    },
    "tags": []
   },
   "source": [
    "# Credit\n",
    "Fork from \n",
    "\n",
    ": https://www.kaggle.com/code/rsuhara/ai-generated-text-detection-quick-baseline\n",
    "\n",
    "Inspired by : <br>\n",
    "https://www.kaggle.com/code/yekenot/llm-detect-by-regression\n",
    "\n",
    "https://www.kaggle.com/code/xiaocao123/ai-generated-text-detection-add-new-data\n",
    "\n",
    "For the training data we shall use the \"RDizzl3 seven\" dataset (v1) which can be found in the \"LLM: 7 prompt training dataset\" https://www.kaggle.com/datasets/carlmcbrideellis/llm-7-prompt-training-dataset\n",
    "\n",
    "add this dataset :\n",
    "\n",
    "https://www.kaggle.com/datasets/thedrcat/daigt-proper-train-dataset"
   ]
  },
  {
   "cell_type": "markdown",
   "id": "9cdb1e05",
   "metadata": {
    "papermill": {
     "duration": 0.006118,
     "end_time": "2023-11-15T20:07:02.682411",
     "exception": false,
     "start_time": "2023-11-15T20:07:02.676293",
     "status": "completed"
    },
    "tags": []
   },
   "source": [
    "# Importing library"
   ]
  },
  {
   "cell_type": "code",
   "execution_count": 1,
   "id": "56d0b5ec",
   "metadata": {
    "execution": {
     "iopub.execute_input": "2023-11-15T20:07:02.697266Z",
     "iopub.status.busy": "2023-11-15T20:07:02.696435Z",
     "iopub.status.idle": "2023-11-15T20:07:05.031291Z",
     "shell.execute_reply": "2023-11-15T20:07:05.030217Z"
    },
    "papermill": {
     "duration": 2.34523,
     "end_time": "2023-11-15T20:07:05.033861",
     "exception": false,
     "start_time": "2023-11-15T20:07:02.688631",
     "status": "completed"
    },
    "tags": []
   },
   "outputs": [
    {
     "name": "stderr",
     "output_type": "stream",
     "text": [
      "/opt/conda/lib/python3.10/site-packages/scipy/__init__.py:146: UserWarning: A NumPy version >=1.16.5 and <1.23.0 is required for this version of SciPy (detected version 1.23.5\n",
      "  warnings.warn(f\"A NumPy version >={np_minversion} and <{np_maxversion}\"\n"
     ]
    }
   ],
   "source": [
    "import numpy as np\n",
    "import pandas as pd\n",
    "import re\n",
    "from sklearn.linear_model import LogisticRegression\n",
    "from sklearn.ensemble import RandomForestClassifier, VotingClassifier\n",
    "from sklearn.naive_bayes import MultinomialNB\n",
    "from sklearn.feature_extraction.text import TfidfVectorizer\n",
    "from sklearn.linear_model import SGDClassifier\n",
    "\n",
    "from sklearn.model_selection import GridSearchCV\n",
    "from sklearn.metrics import make_scorer, accuracy_score, roc_auc_score\n",
    "\n",
    "isGridSearch = False\n",
    "\n",
    "# ALL weights caculate by rerunning grid search\n",
    "# weights = [0.10526315789473684, 0.8947368421052632] \n",
    "# weights = [0.05,0.95]\n",
    "weights = [0,1]"
   ]
  },
  {
   "cell_type": "markdown",
   "id": "d401df29",
   "metadata": {
    "papermill": {
     "duration": 0.006898,
     "end_time": "2023-11-15T20:07:05.047762",
     "exception": false,
     "start_time": "2023-11-15T20:07:05.040864",
     "status": "completed"
    },
    "tags": []
   },
   "source": [
    "# Load datasets"
   ]
  },
  {
   "cell_type": "code",
   "execution_count": 2,
   "id": "39d3ef30",
   "metadata": {
    "execution": {
     "iopub.execute_input": "2023-11-15T20:07:05.062846Z",
     "iopub.status.busy": "2023-11-15T20:07:05.061794Z",
     "iopub.status.idle": "2023-11-15T20:07:08.387297Z",
     "shell.execute_reply": "2023-11-15T20:07:08.386380Z"
    },
    "papermill": {
     "duration": 3.335449,
     "end_time": "2023-11-15T20:07:08.389659",
     "exception": false,
     "start_time": "2023-11-15T20:07:05.054210",
     "status": "completed"
    },
    "tags": []
   },
   "outputs": [],
   "source": [
    "external_df = pd.read_csv(\"/kaggle/input/daigt-external-dataset/daigt_external_dataset.csv\", sep=',')\n",
    "train = pd.read_csv(\"/kaggle/input/llm-7-prompt-training-dataset/train_essays_RDizzl3_seven_v2.csv\")\n",
    "test = pd.read_csv('/kaggle/input/llm-detect-ai-generated-text/test_essays.csv')\n",
    "\n",
    "addtrain1 = pd.read_csv(\"/kaggle/input/daigt-proper-train-dataset/train_drcat_04.csv\")"
   ]
  },
  {
   "cell_type": "markdown",
   "id": "8a4a9bfa",
   "metadata": {
    "papermill": {
     "duration": 0.006062,
     "end_time": "2023-11-15T20:07:08.402174",
     "exception": false,
     "start_time": "2023-11-15T20:07:08.396112",
     "status": "completed"
    },
    "tags": []
   },
   "source": [
    "## add more data"
   ]
  },
  {
   "cell_type": "code",
   "execution_count": 3,
   "id": "d79baefb",
   "metadata": {
    "execution": {
     "iopub.execute_input": "2023-11-15T20:07:08.415920Z",
     "iopub.status.busy": "2023-11-15T20:07:08.415576Z",
     "iopub.status.idle": "2023-11-15T20:07:08.678582Z",
     "shell.execute_reply": "2023-11-15T20:07:08.677652Z"
    },
    "papermill": {
     "duration": 0.272413,
     "end_time": "2023-11-15T20:07:08.680790",
     "exception": false,
     "start_time": "2023-11-15T20:07:08.408377",
     "status": "completed"
    },
    "tags": []
   },
   "outputs": [
    {
     "data": {
      "text/html": [
       "<div>\n",
       "<style scoped>\n",
       "    .dataframe tbody tr th:only-of-type {\n",
       "        vertical-align: middle;\n",
       "    }\n",
       "\n",
       "    .dataframe tbody tr th {\n",
       "        vertical-align: top;\n",
       "    }\n",
       "\n",
       "    .dataframe thead th {\n",
       "        text-align: right;\n",
       "    }\n",
       "</style>\n",
       "<table border=\"1\" class=\"dataframe\">\n",
       "  <thead>\n",
       "    <tr style=\"text-align: right;\">\n",
       "      <th></th>\n",
       "      <th>text</th>\n",
       "      <th>label</th>\n",
       "    </tr>\n",
       "  </thead>\n",
       "  <tbody>\n",
       "    <tr>\n",
       "      <th>0</th>\n",
       "      <td>In recent years, technology has had a profoun...</td>\n",
       "      <td>1</td>\n",
       "    </tr>\n",
       "    <tr>\n",
       "      <th>4</th>\n",
       "      <td>I strongly believe that meditation and mindful...</td>\n",
       "      <td>1</td>\n",
       "    </tr>\n",
       "    <tr>\n",
       "      <th>9</th>\n",
       "      <td>One way school administrators can attempt to c...</td>\n",
       "      <td>1</td>\n",
       "    </tr>\n",
       "    <tr>\n",
       "      <th>11</th>\n",
       "      <td>While summer is meant as a break from the regu...</td>\n",
       "      <td>1</td>\n",
       "    </tr>\n",
       "    <tr>\n",
       "      <th>12</th>\n",
       "      <td>The use of Facial Action Coding System (FACS) ...</td>\n",
       "      <td>1</td>\n",
       "    </tr>\n",
       "  </tbody>\n",
       "</table>\n",
       "</div>"
      ],
      "text/plain": [
       "                                                 text  label\n",
       "0    In recent years, technology has had a profoun...      1\n",
       "4   I strongly believe that meditation and mindful...      1\n",
       "9   One way school administrators can attempt to c...      1\n",
       "11  While summer is meant as a break from the regu...      1\n",
       "12  The use of Facial Action Coding System (FACS) ...      1"
      ]
     },
     "execution_count": 3,
     "metadata": {},
     "output_type": "execute_result"
    }
   ],
   "source": [
    "add_train=addtrain1[addtrain1[\"label\"]==1]#.sample(3000)\n",
    "add_train=pd.concat([add_train,add_train,add_train])\n",
    "add_train=add_train[[\"text\",\"label\"]]\n",
    "add_train['text'] = add_train['text'].str.replace('\\n', '')\n",
    "add_train.head(5)"
   ]
  },
  {
   "cell_type": "code",
   "execution_count": 4,
   "id": "391c06cd",
   "metadata": {
    "execution": {
     "iopub.execute_input": "2023-11-15T20:07:08.695274Z",
     "iopub.status.busy": "2023-11-15T20:07:08.694652Z",
     "iopub.status.idle": "2023-11-15T20:07:08.700284Z",
     "shell.execute_reply": "2023-11-15T20:07:08.699458Z"
    },
    "papermill": {
     "duration": 0.014963,
     "end_time": "2023-11-15T20:07:08.702154",
     "exception": false,
     "start_time": "2023-11-15T20:07:08.687191",
     "status": "completed"
    },
    "tags": []
   },
   "outputs": [
    {
     "data": {
      "text/plain": [
       "43242"
      ]
     },
     "execution_count": 4,
     "metadata": {},
     "output_type": "execute_result"
    }
   ],
   "source": [
    "len(add_train)"
   ]
  },
  {
   "cell_type": "markdown",
   "id": "41a9b09c",
   "metadata": {
    "papermill": {
     "duration": 0.006011,
     "end_time": "2023-11-15T20:07:08.714259",
     "exception": false,
     "start_time": "2023-11-15T20:07:08.708248",
     "status": "completed"
    },
    "tags": []
   },
   "source": [
    "# Preprocess and merge datasets"
   ]
  },
  {
   "cell_type": "code",
   "execution_count": 5,
   "id": "7649c7e3",
   "metadata": {
    "execution": {
     "iopub.execute_input": "2023-11-15T20:07:08.727687Z",
     "iopub.status.busy": "2023-11-15T20:07:08.727369Z",
     "iopub.status.idle": "2023-11-15T20:07:08.751959Z",
     "shell.execute_reply": "2023-11-15T20:07:08.751141Z"
    },
    "papermill": {
     "duration": 0.033329,
     "end_time": "2023-11-15T20:07:08.753870",
     "exception": false,
     "start_time": "2023-11-15T20:07:08.720541",
     "status": "completed"
    },
    "tags": []
   },
   "outputs": [
    {
     "data": {
      "text/html": [
       "<div>\n",
       "<style scoped>\n",
       "    .dataframe tbody tr th:only-of-type {\n",
       "        vertical-align: middle;\n",
       "    }\n",
       "\n",
       "    .dataframe tbody tr th {\n",
       "        vertical-align: top;\n",
       "    }\n",
       "\n",
       "    .dataframe thead th {\n",
       "        text-align: right;\n",
       "    }\n",
       "</style>\n",
       "<table border=\"1\" class=\"dataframe\">\n",
       "  <thead>\n",
       "    <tr style=\"text-align: right;\">\n",
       "      <th></th>\n",
       "      <th>text</th>\n",
       "      <th>label</th>\n",
       "    </tr>\n",
       "  </thead>\n",
       "  <tbody>\n",
       "    <tr>\n",
       "      <th>0</th>\n",
       "      <td>Cars. Cars have been around since they became ...</td>\n",
       "      <td>0</td>\n",
       "    </tr>\n",
       "    <tr>\n",
       "      <th>1</th>\n",
       "      <td>Transportation is a large necessity in most co...</td>\n",
       "      <td>0</td>\n",
       "    </tr>\n",
       "    <tr>\n",
       "      <th>2</th>\n",
       "      <td>\"America's love affair with it's vehicles seem...</td>\n",
       "      <td>0</td>\n",
       "    </tr>\n",
       "    <tr>\n",
       "      <th>3</th>\n",
       "      <td>How often do you ride in a car? Do you drive a...</td>\n",
       "      <td>0</td>\n",
       "    </tr>\n",
       "    <tr>\n",
       "      <th>4</th>\n",
       "      <td>Cars are a wonderful thing. They are perhaps o...</td>\n",
       "      <td>0</td>\n",
       "    </tr>\n",
       "  </tbody>\n",
       "</table>\n",
       "</div>"
      ],
      "text/plain": [
       "                                                text  label\n",
       "0  Cars. Cars have been around since they became ...      0\n",
       "1  Transportation is a large necessity in most co...      0\n",
       "2  \"America's love affair with it's vehicles seem...      0\n",
       "3  How often do you ride in a car? Do you drive a...      0\n",
       "4  Cars are a wonderful thing. They are perhaps o...      0"
      ]
     },
     "execution_count": 5,
     "metadata": {},
     "output_type": "execute_result"
    }
   ],
   "source": [
    "external_df = external_df.rename(columns={'generated': 'label'})\n",
    "external_df = external_df[[\"source_text\"]]\n",
    "external_df.columns = [\"text\"]\n",
    "external_df['text'] = external_df['text'].str.replace('\\n', '')\n",
    "external_df[\"label\"] = 1\n",
    "external_df = pd.concat([external_df,external_df,external_df])\n",
    "\n",
    "train = pd.concat([train, external_df, add_train])\n",
    "train.head(5)"
   ]
  },
  {
   "cell_type": "code",
   "execution_count": 6,
   "id": "d543211d",
   "metadata": {
    "execution": {
     "iopub.execute_input": "2023-11-15T20:07:08.768805Z",
     "iopub.status.busy": "2023-11-15T20:07:08.768482Z",
     "iopub.status.idle": "2023-11-15T20:07:08.779943Z",
     "shell.execute_reply": "2023-11-15T20:07:08.779019Z"
    },
    "papermill": {
     "duration": 0.021669,
     "end_time": "2023-11-15T20:07:08.782112",
     "exception": false,
     "start_time": "2023-11-15T20:07:08.760443",
     "status": "completed"
    },
    "tags": []
   },
   "outputs": [
    {
     "data": {
      "text/plain": [
       "label\n",
       "1    53509\n",
       "0    14247\n",
       "Name: count, dtype: int64"
      ]
     },
     "execution_count": 6,
     "metadata": {},
     "output_type": "execute_result"
    }
   ],
   "source": [
    "train.value_counts(\"label\")"
   ]
  },
  {
   "cell_type": "markdown",
   "id": "34508bba",
   "metadata": {
    "papermill": {
     "duration": 0.007025,
     "end_time": "2023-11-15T20:07:08.796433",
     "exception": false,
     "start_time": "2023-11-15T20:07:08.789408",
     "status": "completed"
    },
    "tags": []
   },
   "source": [
    "# Preprocessing function"
   ]
  },
  {
   "cell_type": "code",
   "execution_count": 7,
   "id": "39f78b5d",
   "metadata": {
    "execution": {
     "iopub.execute_input": "2023-11-15T20:07:08.812258Z",
     "iopub.status.busy": "2023-11-15T20:07:08.811928Z",
     "iopub.status.idle": "2023-11-15T20:07:08.822691Z",
     "shell.execute_reply": "2023-11-15T20:07:08.821780Z"
    },
    "papermill": {
     "duration": 0.021082,
     "end_time": "2023-11-15T20:07:08.824716",
     "exception": false,
     "start_time": "2023-11-15T20:07:08.803634",
     "status": "completed"
    },
    "tags": []
   },
   "outputs": [
    {
     "data": {
      "text/plain": [
       "0    Cars. Cars have been around since they became ...\n",
       "1    Transportation is a large necessity in most co...\n",
       "2    \"America's love affair with it's vehicles seem...\n",
       "3    How often do you ride in a car? Do you drive a...\n",
       "4    Cars are a wonderful thing. They are perhaps o...\n",
       "5    The electrol college system is an unfair syste...\n",
       "6    Dear state senator, It is the utmost respect t...\n",
       "7    Fellow citizens, cars have become a major role...\n",
       "8    \"It's official: The electoral college is unfai...\n",
       "9    The Electoral College has been kept for centur...\n",
       "Name: text, dtype: object"
      ]
     },
     "execution_count": 7,
     "metadata": {},
     "output_type": "execute_result"
    }
   ],
   "source": [
    "# def preprocess_text(text):\n",
    "# #     text = text.lower()\n",
    "#     text = re.sub(r'http\\S+', '', text)  # Remove URLs\n",
    "#     text = re.sub(r'\\b\\w{1,2}\\b', '', text)  # Remove short words\n",
    "#     return text\n",
    "\n",
    "# external_df['text'] = external_df['text'].apply(preprocess_text)\n",
    "# train['text'] = train['text'].apply(preprocess_text)\n",
    "# test['text'] = test['text'].apply(preprocess_text)\n",
    "\n",
    "# Combine train and test text\n",
    "df = pd.concat([train['text'], test['text']], axis=0)\n",
    "df.head(10)"
   ]
  },
  {
   "cell_type": "markdown",
   "id": "8d8318c3",
   "metadata": {
    "papermill": {
     "duration": 0.006691,
     "end_time": "2023-11-15T20:07:08.838851",
     "exception": false,
     "start_time": "2023-11-15T20:07:08.832160",
     "status": "completed"
    },
    "tags": []
   },
   "source": [
    "# Feature extraction"
   ]
  },
  {
   "cell_type": "code",
   "execution_count": 8,
   "id": "198b7595",
   "metadata": {
    "execution": {
     "iopub.execute_input": "2023-11-15T20:07:08.855666Z",
     "iopub.status.busy": "2023-11-15T20:07:08.854868Z",
     "iopub.status.idle": "2023-11-15T20:08:57.285365Z",
     "shell.execute_reply": "2023-11-15T20:08:57.284451Z"
    },
    "papermill": {
     "duration": 108.440896,
     "end_time": "2023-11-15T20:08:57.287924",
     "exception": false,
     "start_time": "2023-11-15T20:07:08.847028",
     "status": "completed"
    },
    "tags": []
   },
   "outputs": [],
   "source": [
    "vectorizer = TfidfVectorizer(ngram_range=(1, 3),sublinear_tf=True)\n",
    "X = vectorizer.fit_transform(df)"
   ]
  },
  {
   "cell_type": "markdown",
   "id": "52f0c472",
   "metadata": {
    "papermill": {
     "duration": 0.006713,
     "end_time": "2023-11-15T20:08:57.301630",
     "exception": false,
     "start_time": "2023-11-15T20:08:57.294917",
     "status": "completed"
    },
    "tags": []
   },
   "source": [
    "# Model initialization"
   ]
  },
  {
   "cell_type": "code",
   "execution_count": 9,
   "id": "b5af0854",
   "metadata": {
    "execution": {
     "iopub.execute_input": "2023-11-15T20:08:57.316120Z",
     "iopub.status.busy": "2023-11-15T20:08:57.315775Z",
     "iopub.status.idle": "2023-11-15T20:08:57.320853Z",
     "shell.execute_reply": "2023-11-15T20:08:57.319972Z"
    },
    "papermill": {
     "duration": 0.014587,
     "end_time": "2023-11-15T20:08:57.322840",
     "exception": false,
     "start_time": "2023-11-15T20:08:57.308253",
     "status": "completed"
    },
    "tags": []
   },
   "outputs": [],
   "source": [
    "lr_model = LogisticRegression(solver=\"liblinear\")\n",
    "sgd_model = SGDClassifier(max_iter=1000, tol=1e-3, loss=\"modified_huber\")\n",
    "# rf_model = RandomForestClassifier(n_estimators=100)\n",
    "# nb_model = MultinomialNB()"
   ]
  },
  {
   "cell_type": "markdown",
   "id": "fb7ab565",
   "metadata": {
    "papermill": {
     "duration": 0.006342,
     "end_time": "2023-11-15T20:08:57.335847",
     "exception": false,
     "start_time": "2023-11-15T20:08:57.329505",
     "status": "completed"
    },
    "tags": []
   },
   "source": [
    "# Create the ensemble model"
   ]
  },
  {
   "cell_type": "code",
   "execution_count": 10,
   "id": "cde1cfaa",
   "metadata": {
    "execution": {
     "iopub.execute_input": "2023-11-15T20:08:57.350773Z",
     "iopub.status.busy": "2023-11-15T20:08:57.350463Z",
     "iopub.status.idle": "2023-11-15T20:08:57.355254Z",
     "shell.execute_reply": "2023-11-15T20:08:57.354409Z"
    },
    "papermill": {
     "duration": 0.014688,
     "end_time": "2023-11-15T20:08:57.357355",
     "exception": false,
     "start_time": "2023-11-15T20:08:57.342667",
     "status": "completed"
    },
    "tags": []
   },
   "outputs": [],
   "source": [
    "ensemble = VotingClassifier(estimators=[('lr', lr_model), \n",
    "                                        #('rf', rf_model),\n",
    "                                        ('sgd', sgd_model),                                      \n",
    "                                        #('nb', nb_model)\n",
    "                                       ],\n",
    "                            weights=weights,\n",
    "                            voting='soft')"
   ]
  },
  {
   "cell_type": "markdown",
   "id": "1d47bfca",
   "metadata": {
    "papermill": {
     "duration": 0.006847,
     "end_time": "2023-11-15T20:08:57.371188",
     "exception": false,
     "start_time": "2023-11-15T20:08:57.364341",
     "status": "completed"
    },
    "tags": []
   },
   "source": [
    "# Define a range of weights"
   ]
  },
  {
   "cell_type": "code",
   "execution_count": 11,
   "id": "adcaa97c",
   "metadata": {
    "execution": {
     "iopub.execute_input": "2023-11-15T20:08:57.386307Z",
     "iopub.status.busy": "2023-11-15T20:08:57.385940Z",
     "iopub.status.idle": "2023-11-15T20:09:29.708234Z",
     "shell.execute_reply": "2023-11-15T20:09:29.706731Z"
    },
    "papermill": {
     "duration": 32.33421,
     "end_time": "2023-11-15T20:09:29.712155",
     "exception": false,
     "start_time": "2023-11-15T20:08:57.377945",
     "status": "completed"
    },
    "tags": []
   },
   "outputs": [],
   "source": [
    "if not isGridSearch:\n",
    "    ensemble.fit(X[:train.shape[0]], train.label)\n",
    "    preds_test = ensemble.predict_proba(X[train.shape[0]:])[:,1]\n",
    "else:\n",
    "    weights = np.linspace(0, 1, 20)\n",
    "    weight_combinations = [(w, 1-w) for w in weights]\n",
    "\n",
    "    # Define the parameter grid\n",
    "    param_grid = {'weights': weight_combinations}\n",
    "\n",
    "    # Define a scorer, for example, accuracy\n",
    "    scorer = make_scorer(roc_auc_score)\n",
    "\n",
    "    # Initialize GridSearchCV\n",
    "    grid_search = GridSearchCV(estimator=ensemble, \n",
    "                               param_grid=param_grid, \n",
    "                               scoring=scorer, \n",
    "                               cv=5)\n",
    "\n",
    "    # Fit the grid search to the data\n",
    "    grid_search.fit(X[:train.shape[0]], train.label)\n",
    "\n",
    "    # Find the best parameters\n",
    "    best_weights = grid_search.best_params_['weights']\n",
    "    print(f\"Best Weights: {best_weights}\")\n",
    "    preds_test = grid_search.predict_proba(X[train.shape[0]:])[:, 1]"
   ]
  },
  {
   "cell_type": "markdown",
   "id": "3cc26d38",
   "metadata": {
    "papermill": {
     "duration": 0.015737,
     "end_time": "2023-11-15T20:09:29.743703",
     "exception": false,
     "start_time": "2023-11-15T20:09:29.727966",
     "status": "completed"
    },
    "tags": []
   },
   "source": [
    "# Predictions"
   ]
  },
  {
   "cell_type": "code",
   "execution_count": 12,
   "id": "bb2e58e0",
   "metadata": {
    "execution": {
     "iopub.execute_input": "2023-11-15T20:09:29.778441Z",
     "iopub.status.busy": "2023-11-15T20:09:29.777810Z",
     "iopub.status.idle": "2023-11-15T20:09:29.790598Z",
     "shell.execute_reply": "2023-11-15T20:09:29.789248Z"
    },
    "papermill": {
     "duration": 0.034837,
     "end_time": "2023-11-15T20:09:29.794377",
     "exception": false,
     "start_time": "2023-11-15T20:09:29.759540",
     "status": "completed"
    },
    "tags": []
   },
   "outputs": [],
   "source": [
    "pd.DataFrame({'id': test[\"id\"], 'generated': preds_test}).to_csv('submission.csv', index=False)"
   ]
  }
 ],
 "metadata": {
  "kaggle": {
   "accelerator": "nvidiaTeslaT4",
   "dataSources": [
    {
     "databundleVersionId": 6888007,
     "sourceId": 61542,
     "sourceType": "competition"
    },
    {
     "datasetId": 3936750,
     "sourceId": 6847931,
     "sourceType": "datasetVersion"
    },
    {
     "datasetId": 3942644,
     "sourceId": 6890527,
     "sourceType": "datasetVersion"
    },
    {
     "datasetId": 3961875,
     "sourceId": 6971638,
     "sourceType": "datasetVersion"
    }
   ],
   "dockerImageVersionId": 30559,
   "isGpuEnabled": true,
   "isInternetEnabled": false,
   "language": "python",
   "sourceType": "notebook"
  },
  "kernelspec": {
   "display_name": "Python 3",
   "language": "python",
   "name": "python3"
  },
  "language_info": {
   "codemirror_mode": {
    "name": "ipython",
    "version": 3
   },
   "file_extension": ".py",
   "mimetype": "text/x-python",
   "name": "python",
   "nbconvert_exporter": "python",
   "pygments_lexer": "ipython3",
   "version": "3.10.12"
  },
  "papermill": {
   "default_parameters": {},
   "duration": 151.97431,
   "end_time": "2023-11-15T20:09:30.939097",
   "environment_variables": {},
   "exception": null,
   "input_path": "__notebook__.ipynb",
   "output_path": "__notebook__.ipynb",
   "parameters": {},
   "start_time": "2023-11-15T20:06:58.964787",
   "version": "2.4.0"
  }
 },
 "nbformat": 4,
 "nbformat_minor": 5
}
